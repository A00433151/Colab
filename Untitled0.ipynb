{
  "nbformat": 4,
  "nbformat_minor": 0,
  "metadata": {
    "colab": {
      "name": "Untitled0.ipynb",
      "provenance": [],
      "authorship_tag": "ABX9TyPpp3mm6WtcGGw3gph5Oo7e",
      "include_colab_link": true
    },
    "kernelspec": {
      "name": "python3",
      "display_name": "Python 3"
    },
    "accelerator": "TPU"
  },
  "cells": [
    {
      "cell_type": "markdown",
      "metadata": {
        "id": "view-in-github",
        "colab_type": "text"
      },
      "source": [
        "<a href=\"https://colab.research.google.com/github/A00433151/Colab/blob/master/Untitled0.ipynb\" target=\"_parent\"><img src=\"https://colab.research.google.com/assets/colab-badge.svg\" alt=\"Open In Colab\"/></a>"
      ]
    },
    {
      "cell_type": "code",
      "metadata": {
        "id": "snKjp1AnOl5T",
        "colab_type": "code",
        "colab": {}
      },
      "source": [
        "import pandas as pd\n",
        "\n",
        "url_books = \"https://github.com/zygmuntz/goodbooks-10k/raw/master/books.csv\"\n",
        "url_read = \"https://github.com/zygmuntz/goodbooks-10k/raw/master/to_read.csv\"\n",
        "books = pd.read_csv(url_books)\n",
        "read = pd.read_csv(url_read)\n",
        "print(books.head())\n",
        "print(read.head())\n",
        "# print(books.describe())\n",
        "# print(books.info())"
      ],
      "execution_count": 0,
      "outputs": []
    }
  ]
}